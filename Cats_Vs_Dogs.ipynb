{
 "cells": [
  {
   "cell_type": "code",
   "execution_count": 2,
   "metadata": {},
   "outputs": [
    {
     "data": {
      "text/plain": [
       "'C:\\\\Users\\\\itsni\\\\Downloads'"
      ]
     },
     "execution_count": 2,
     "metadata": {},
     "output_type": "execute_result"
    }
   ],
   "source": [
    "pwd()"
   ]
  },
  {
   "cell_type": "code",
   "execution_count": 3,
   "metadata": {},
   "outputs": [
    {
     "name": "stdout",
     "output_type": "stream",
     "text": [
      "D:\\ComputerVisionDatasets\n"
     ]
    }
   ],
   "source": [
    "%cd D:\\ComputerVisionDatasets"
   ]
  },
  {
   "cell_type": "code",
   "execution_count": 4,
   "metadata": {},
   "outputs": [
    {
     "data": {
      "text/plain": [
       "'D:\\\\ComputerVisionDatasets'"
      ]
     },
     "execution_count": 4,
     "metadata": {},
     "output_type": "execute_result"
    }
   ],
   "source": [
    "pwd()"
   ]
  },
  {
   "cell_type": "code",
   "execution_count": 5,
   "metadata": {
    "id": "-TdITLh-WkjZ"
   },
   "outputs": [],
   "source": [
    "# Importing all necessary libraries\n",
    "from os import makedirs\n",
    "from os import listdir\n",
    "from shutil import copyfile"
   ]
  },
  {
   "cell_type": "markdown",
   "metadata": {
    "id": "O1s7z6EIKJlc"
   },
   "source": [
    "### Extract all the files from Zip"
   ]
  },
  {
   "cell_type": "code",
   "execution_count": 6,
   "metadata": {
    "id": "lzrjvdCvKHqj"
   },
   "outputs": [],
   "source": [
    "from zipfile import ZipFile\n",
    "\n",
    "with ZipFile('dogs-vs-cats.zip','r') as zipobj:\n",
    "  # Extract all the contents of zip file in current directory\n",
    "  zipobj.extractall()\n",
    "\n",
    "with ZipFile('train.zip','r') as zipobj:\n",
    "  # extract all the contents of zip file in current directory\n",
    "  zipobj.extractall()\n",
    "\n",
    "with ZipFile('test1.zip','r') as zipobj:\n",
    "  #extract all the contents of zip file in current directory\n",
    "  zipobj.extractall()"
   ]
  },
  {
   "cell_type": "markdown",
   "metadata": {
    "id": "Sv9-6aKUOTfO"
   },
   "source": [
    "Creating sub directories so the data is in this format"
   ]
  },
  {
   "cell_type": "markdown",
   "metadata": {
    "id": "qUhy-e41Ozcs"
   },
   "source": [
    "-dataset_dogs_vs_cats\n",
    "\n",
    "    -train\n",
    "      --dogs\n",
    "      --cats\n",
    "    -test\n",
    "      --dogs\n",
    "      --cats"
   ]
  },
  {
   "cell_type": "code",
   "execution_count": 7,
   "metadata": {
    "id": "Xb_vMavVOlyr"
   },
   "outputs": [],
   "source": [
    "#create directories\n",
    "dataset_home = 'dataset_dogs_vs_cats/'\n",
    "subdirs=['train/','test/']\n",
    "for subdir in subdirs:\n",
    "  #create label subdirectories\n",
    "  labeldirs=['dogs/','cats/']\n",
    "  for labeldir in labeldirs:\n",
    "    newdir = dataset_home+subdir+labeldir\n",
    "    makedirs(newdir,exist_ok=True)"
   ]
  },
  {
   "cell_type": "markdown",
   "metadata": {
    "id": "lXNARTdxRUJl"
   },
   "source": [
    "Now change your dataset to fit this format"
   ]
  },
  {
   "cell_type": "code",
   "execution_count": 8,
   "metadata": {
    "id": "msU1yM7KRZkp"
   },
   "outputs": [],
   "source": [
    "\n",
    "#create directories\n",
    "from random import seed,random\n",
    "seed(1)\n",
    "#define ratio of picture to use for validation\n",
    "val_ratio=0.25\n",
    "\n",
    "# copy training dataset images into subdirectories\n",
    "src_directory = 'train'\n",
    "dataset_home='dataset_dogs_vs_cats/'\n",
    "for file in listdir(src_directory):\n",
    "  src = src_directory+'/'+file\n",
    "  dst_dir='train/'\n",
    "  if random()<val_ratio:\n",
    "    dst_dir='test/'\n",
    "  if file.startswith('cat'):\n",
    "    dst=dataset_home+dst_dir+'cats'+file\n",
    "    copyfile(src,dst)\n",
    "  elif file.startswith('dog'):\n",
    "    dst=dataset_home+dst_dir+'dogs/'+file\n",
    "    copyfile(src,dst)"
   ]
  },
  {
   "cell_type": "markdown",
   "metadata": {
    "id": "LU9oKru2a_by"
   },
   "source": [
    "### Prepare a model for transfer learning"
   ]
  },
  {
   "cell_type": "code",
   "execution_count": 9,
   "metadata": {
    "colab": {
     "base_uri": "https://localhost:8080/"
    },
    "id": "DUTIPRXTa96B",
    "outputId": "69725a66-bc8f-47f1-dc4c-615f69e04baf"
   },
   "outputs": [],
   "source": [
    "from keras.applications.vgg16 import VGG16\n",
    "from keras.models import Model\n",
    "from keras.layers import Dense, Flatten\n",
    "# from keras.optimizers import SGD\n",
    "from tensorflow.keras.optimizers import SGD\n",
    "from keras.preprocessing.image import ImageDataGenerator\n",
    "model = VGG16(include_top=False,input_shape=(224,224,3))\n",
    "#mark loaded layers as not trainable\n",
    "for layer in model.layers:\n",
    "  layer.trainable=False\n",
    "# add new classifier layers\n",
    "flat1=Flatten()(model.layers[-1].output)\n",
    "class1=Dense(128,activation='relu',kernel_initializer='he_uniform')(flat1)\n",
    "output = Dense(1,activation='sigmoid')(class1)\n",
    "\n",
    "#define new model\n",
    "model=Model(inputs=model.inputs,outputs=output)\n",
    "#compile model\n",
    "opt = SGD(learning_rate=0.001,momentum=0.9)\n",
    "model.compile(optimizer=opt,loss='binary_crossentropy',metrics=['accuracy'])"
   ]
  },
  {
   "cell_type": "markdown",
   "metadata": {
    "id": "VXFx7RmXdzxC"
   },
   "source": [
    "Run the model using generator"
   ]
  },
  {
   "cell_type": "code",
   "execution_count": 10,
   "metadata": {
    "colab": {
     "base_uri": "https://localhost:8080/"
    },
    "id": "n6hmJt8DdPAg",
    "outputId": "f9af53a5-dac3-4601-8609-fadc8bd1f25f"
   },
   "outputs": [
    {
     "name": "stdout",
     "output_type": "stream",
     "text": [
      "Found 9374 images belonging to 2 classes.\n",
      "Found 3126 images belonging to 2 classes.\n"
     ]
    },
    {
     "name": "stderr",
     "output_type": "stream",
     "text": [
      "C:\\Users\\itsni\\AppData\\Local\\Temp/ipykernel_18556/2298134737.py:9: UserWarning: `Model.fit_generator` is deprecated and will be removed in a future version. Please use `Model.fit`, which supports generators.\n",
      "  history = model.fit_generator(train_it,steps_per_epoch=len(train_it),validation_data=test_it,validation_steps=len(test_it),epochs=3,verbose=1)\n"
     ]
    },
    {
     "name": "stdout",
     "output_type": "stream",
     "text": [
      "Epoch 1/3\n",
      "147/147 [==============================] - 2435s 17s/step - loss: 0.0949 - accuracy: 0.9943 - val_loss: 0.0000e+00 - val_accuracy: 1.0000\n",
      "Epoch 2/3\n",
      "147/147 [==============================] - 2408s 16s/step - loss: 0.0000e+00 - accuracy: 1.0000 - val_loss: 0.0000e+00 - val_accuracy: 1.0000\n",
      "Epoch 3/3\n",
      "147/147 [==============================] - 2477s 17s/step - loss: 0.0000e+00 - accuracy: 1.0000 - val_loss: 0.0000e+00 - val_accuracy: 1.0000\n"
     ]
    }
   ],
   "source": [
    "datagen = ImageDataGenerator(featurewise_center=True)\n",
    "# specify imagenet mean values for centering\n",
    "datagen.mean = [123.68,116.779,103.939]\n",
    "# prepare iterator\n",
    "train_it = datagen.flow_from_directory('dataset_dogs_vs_cats/train/',class_mode='binary',batch_size=64, target_size=(224,224))\n",
    "test_it = datagen.flow_from_directory('dataset_dogs_vs_cats/test/',class_mode='binary',batch_size=64, target_size=(224,224))\n",
    "\n",
    "# fit model\n",
    "history = model.fit_generator(train_it,steps_per_epoch=len(train_it),validation_data=test_it,validation_steps=len(test_it),epochs=3,verbose=1)"
   ]
  },
  {
   "cell_type": "markdown",
   "metadata": {
    "id": "np_bt-Frl0DG"
   },
   "source": [
    "Plot the loss and Accuracy"
   ]
  },
  {
   "cell_type": "code",
   "execution_count": 11,
   "metadata": {
    "id": "tnzJf2R1ggjL"
   },
   "outputs": [
    {
     "data": {
      "image/png": "[encoded data removed]",
      "text/plain": [
       "<Figure size 432x288 with 2 Axes>"
      ]
     },
     "metadata": {
      "needs_background": "light"
     },
     "output_type": "display_data"
    }
   ],
   "source": [
    "import matplotlib.pyplot as pyplot\n",
    "import sys\n",
    "pyplot.subplot(211)\n",
    "pyplot.title('Cross Entropy Loss')\n",
    "pyplot.plot(history.history['loss'],color='blue',label='train')\n",
    "pyplot.plot(history.history['val_loss'],color='orange',label='test')\n",
    "#plot accuracy\n",
    "pyplot.subplot(212)\n",
    "pyplot.title('Classification Accuracy')\n",
    "pyplot.plot(history.history['accuracy'],color='blue',label='train')\n",
    "pyplot.plot(history.history['val_accuracy'],color='orange',label='test')\n",
    "#save plot to file\n",
    "filename = sys.argv[0].split('/')[-1]\n",
    "pyplot.savefig(filename+'_plot.png')"
   ]
  },
  {
   "cell_type": "markdown",
   "metadata": {
    "id": "QojcGzrho2Yr"
   },
   "source": [
    "Predict outputs from the model"
   ]
  },
  {
   "cell_type": "code",
   "execution_count": 13,
   "metadata": {
    "id": "l_ca9JeCo8O5"
   },
   "outputs": [],
   "source": [
    "from keras.preprocessing.image import load_img, img_to_array\n",
    "from keras.models import load_model\n",
    "\n",
    "#load and prepare the image\n",
    "#load the image\n",
    "img=load_img('catscat.86.jpg',target_size=(224,224))\n",
    "# convert to array\n",
    "img = img_to_array(img)\n",
    "# reshape into a single sample with 3 channels\n",
    "\n",
    "img = img.reshape(1,224,224,3)\n",
    "#center pixel data\n",
    "img = img.astype('float32')\n",
    "img= img - [123.68,116.779,103.939]"
   ]
  },
  {
   "cell_type": "code",
   "execution_count": 14,
   "metadata": {
    "id": "bRIimhbFqDQ9"
   },
   "outputs": [
    {
     "name": "stdout",
     "output_type": "stream",
     "text": [
      "[1.]\n"
     ]
    }
   ],
   "source": [
    "result = model.predict(img)\n",
    "print(result[0])"
   ]
  },
  {
   "cell_type": "markdown",
   "metadata": {
    "id": "UY3vw9LToAFa"
   },
   "source": [
    "Save the model for future use"
   ]
  },
  {
   "cell_type": "code",
   "execution_count": 15,
   "metadata": {
    "id": "lEY6dS1tn_Lw"
   },
   "outputs": [
    {
     "name": "stdout",
     "output_type": "stream",
     "text": [
      "[1.]\n"
     ]
    }
   ],
   "source": [
    "model.save('final_model.h5')\n",
    "result= model.predict(img)\n",
    "print(result[0])"
   ]
  },
  {
   "cell_type": "code",
   "execution_count": null,
   "metadata": {},
   "outputs": [],
   "source": []
  }
 ],
 "metadata": {
  "accelerator": "TPU",
  "colab": {
   "collapsed_sections": [],
   "name": "Cats Vs Dogs",
   "provenance": []
  },
  "kernelspec": {
   "display_name": "Python 3 (ipykernel)",
   "language": "python",
   "name": "python3"
  },
  "language_info": {
   "codemirror_mode": {
    "name": "ipython",
    "version": 3
   },
   "file_extension": ".py",
   "mimetype": "text/x-python",
   "name": "python",
   "nbconvert_exporter": "python",
   "pygments_lexer": "ipython3",
   "version": "3.9.7"
  }
 },
 "nbformat": 4,
 "nbformat_minor": 1
}
